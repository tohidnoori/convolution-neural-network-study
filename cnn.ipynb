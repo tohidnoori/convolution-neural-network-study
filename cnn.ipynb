{
 "cells": [
  {
   "cell_type": "code",
   "execution_count": 69,
   "id": "6d740f65-d9ed-4fd2-acee-5c55f3f601f2",
   "metadata": {},
   "outputs": [],
   "source": [
    "import numpy as np\n",
    "import pandas as pd\n",
    "import tensorflow as tf\n",
    "from tensorflow.keras.models import Sequential\n",
    "from tensorflow.keras.layers import Dense, Input,MaxPooling2D,Conv2D\n",
    "from tensorflow.keras.preprocessing import image\n",
    "from tensorflow.keras.preprocessing.image import load_img, img_to_array\n",
    "from sklearn.preprocessing import StandardScaler\n",
    "from sklearn.utils import resample # downsample the dataset\n",
    "from sklearn.model_selection import train_test_split # split data into training and testing sets\n",
    "from sklearn.svm import SVC # this will make a support vector machine for classificaiton\n",
    "from sklearn.model_selection import GridSearchCV #this will do cross validation\n",
    "from sklearn.metrics import confusion_matrix # this creates a confusion matrix\n",
    "from sklearn.decomposition import PCA # to perform PCA to plot the data\n",
    "from sklearn.metrics import precision_score, accuracy_score, recall_score\n",
    "from sklearn.metrics import confusion_matrix,ConfusionMatrixDisplay\n",
    "from sklearn.metrics import roc_curve, auc\n",
    "import matplotlib.pyplot as plt\n",
    "from PIL import Image"
   ]
  },
  {
   "cell_type": "code",
   "execution_count": null,
   "id": "97e5be6e",
   "metadata": {},
   "outputs": [],
   "source": [
    "img_path = './images/353.jpg'  \n",
    "img = load_img(img_path)\n",
    "img_array = img_to_array(img)\n",
    "\n",
    "model = Sequential([\n",
    "    Input(shape=(img_array.shape),batch_size=1),\n",
    "    MaxPooling2D(pool_size=(2, 2), strides=(2, 2)),\n",
    "])\n",
    "\n",
    "# expand the dim of the image so img_array have the dimen needed to go to the model\n",
    "#(height,width,channels=3) => (batchsize=1,height,width,channels=3)\n",
    "img_array = np.expand_dims(img_array, axis=0)\n",
    "\n",
    "pooled_img_array = model.predict(img_array)\n",
    "\n",
    "# so the output has the dim of (1,height,width,3) so we need to squeeze the first dim to have real image\n",
    "#(1,height,width,3) => (height,width,3)\n",
    "pooled_img_array = np.squeeze(pooled_img_array, axis=0)\n",
    "\n",
    "plt.figure(figsize=(10, 5))\n",
    "\n",
    "plt.subplot(1, 2, 1)\n",
    "plt.title(\"Original Image\")\n",
    "plt.imshow(img)\n",
    "\n",
    "plt.subplot(1, 2, 2)\n",
    "plt.title(\"Max Pooled Image\")\n",
    "plt.imshow(pooled_img_array.astype('uint8'))\n",
    "plt.imsave('images/max_pooled_image.png', pooled_img_array.astype('uint8'))\n",
    "plt.show()\n",
    "print(model.layers[0])\n"
   ]
  }
 ],
 "metadata": {
  "kernelspec": {
   "display_name": "Python 3 (ipykernel)",
   "language": "python",
   "name": "python3"
  },
  "language_info": {
   "codemirror_mode": {
    "name": "ipython",
    "version": 3
   },
   "file_extension": ".py",
   "mimetype": "text/x-python",
   "name": "python",
   "nbconvert_exporter": "python",
   "pygments_lexer": "ipython3",
   "version": "3.12.1"
  },
  "vscode": {
   "interpreter": {
    "hash": "6991831720b726829475ab2fdaae779fa846493d282639f93ea99b469bb29648"
   }
  }
 },
 "nbformat": 4,
 "nbformat_minor": 5
}
