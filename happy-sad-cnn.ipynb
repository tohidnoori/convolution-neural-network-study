{
 "cells": [
  {
   "cell_type": "code",
   "execution_count": 1,
   "id": "6d740f65-d9ed-4fd2-acee-5c55f3f601f2",
   "metadata": {},
   "outputs": [],
   "source": [
    "import numpy as np\n",
    "import pandas as pd\n",
    "import tensorflow as tf\n",
    "from tensorflow.keras.models import Sequential ,load_model\n",
    "from tensorflow.keras.layers import Dense, Input,MaxPooling2D,Conv2D,Flatten\n",
    "from tensorflow.keras.preprocessing import image\n",
    "from tensorflow.keras.preprocessing.image import load_img, img_to_array\n",
    "from sklearn.preprocessing import StandardScaler\n",
    "from sklearn.utils import resample # downsample the dataset\n",
    "from sklearn.model_selection import train_test_split # split data into training and testing sets\n",
    "from sklearn.svm import SVC # this will make a support vector machine for classificaiton\n",
    "from sklearn.model_selection import GridSearchCV #this will do cross validation\n",
    "from sklearn.metrics import confusion_matrix # this creates a confusion matrix\n",
    "from sklearn.decomposition import PCA # to perform PCA to plot the data\n",
    "from sklearn.metrics import precision_score, accuracy_score, recall_score\n",
    "from sklearn.metrics import confusion_matrix,ConfusionMatrixDisplay\n",
    "from sklearn.metrics import roc_curve, auc\n",
    "import matplotlib.pyplot as plt\n",
    "from PIL import Image\n",
    "import random\n",
    "import glob\n",
    "import os\n",
    "import cv2\n",
    "import pandas as pd"
   ]
  }
 ],
 "metadata": {
  "kernelspec": {
   "display_name": "Python 3 (ipykernel)",
   "language": "python",
   "name": "python3"
  },
  "language_info": {
   "codemirror_mode": {
    "name": "ipython",
    "version": 3
   },
   "file_extension": ".py",
   "mimetype": "text/x-python",
   "name": "python",
   "nbconvert_exporter": "python",
   "pygments_lexer": "ipython3",
   "version": "3.12.1"
  },
  "vscode": {
   "interpreter": {
    "hash": "6991831720b726829475ab2fdaae779fa846493d282639f93ea99b469bb29648"
   }
  }
 },
 "nbformat": 4,
 "nbformat_minor": 5
}
