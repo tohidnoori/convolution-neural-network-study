{
 "cells": [
  {
   "cell_type": "code",
   "execution_count": 1,
   "id": "6d740f65-d9ed-4fd2-acee-5c55f3f601f2",
   "metadata": {},
   "outputs": [],
   "source": [
    "import numpy as np\n",
    "import pandas as pd\n",
    "import tensorflow as tf\n",
    "from tensorflow.keras.models import Sequential ,load_model\n",
    "from tensorflow.keras.layers import Dense, Input,MaxPooling2D,Conv2D,Flatten\n",
    "from tensorflow.keras.preprocessing import image\n",
    "from tensorflow.keras.preprocessing.image import load_img, img_to_array\n",
    "from sklearn.preprocessing import StandardScaler\n",
    "from sklearn.utils import resample # downsample the dataset\n",
    "from sklearn.model_selection import train_test_split # split data into training and testing sets\n",
    "from sklearn.svm import SVC # this will make a support vector machine for classificaiton\n",
    "from sklearn.model_selection import GridSearchCV #this will do cross validation\n",
    "from sklearn.metrics import confusion_matrix # this creates a confusion matrix\n",
    "from sklearn.decomposition import PCA # to perform PCA to plot the data\n",
    "from sklearn.metrics import precision_score, accuracy_score, recall_score\n",
    "from sklearn.metrics import confusion_matrix,ConfusionMatrixDisplay\n",
    "from sklearn.metrics import roc_curve, auc\n",
    "import matplotlib.pyplot as plt\n",
    "from PIL import Image\n",
    "import random\n",
    "import glob\n",
    "import os\n",
    "import cv2\n",
    "import pandas as pd"
   ]
  },
  {
   "cell_type": "code",
   "execution_count": 2,
   "id": "64319b3c",
   "metadata": {},
   "outputs": [],
   "source": [
    "# pre processing\n",
    "\n",
    "# Specify the directory path\n",
    "directory_path = './resizedImage256'\n",
    "\n",
    "# Get all files in the directory\n",
    "files = glob.glob(directory_path + '/*')\n",
    "file_types = set()\n",
    "img_height = 256 \n",
    "img_width = 256\n",
    "Xdata = []\n",
    "Ydata = []\n",
    "for a in files:\n",
    "    #file_name, file_extension = os.path.splitext(a)\n",
    "    #file_types.add(file_extension)\n",
    "    image = cv2.imread(a)\n",
    "    #image = cv2.resize(image, (img_width,img_height))\n",
    "    #Image.fromarray(image).save('./resizedImage256/'+file_name.replace(\"./data\\\\\", \"\")+file_extension)\n",
    "    #print('./data/resized256/'+file_name+file_extension)\n",
    "    #cv2.imwrite('./resizedImage256/'+file_name+file_extension, image)\n",
    "    image = image / 255.0 # for normallization and having better accuracy\n",
    "    Xdata.append(image)\n",
    "    Ydata.append(int(\"happy\" in a))\n",
    "del files    "
   ]
  },
  {
   "cell_type": "code",
   "execution_count": null,
   "id": "211ab6e5",
   "metadata": {},
   "outputs": [],
   "source": []
  }
 ],
 "metadata": {
  "kernelspec": {
   "display_name": "Python 3 (ipykernel)",
   "language": "python",
   "name": "python3"
  },
  "language_info": {
   "codemirror_mode": {
    "name": "ipython",
    "version": 3
   },
   "file_extension": ".py",
   "mimetype": "text/x-python",
   "name": "python",
   "nbconvert_exporter": "python",
   "pygments_lexer": "ipython3",
   "version": "3.12.1"
  },
  "vscode": {
   "interpreter": {
    "hash": "6991831720b726829475ab2fdaae779fa846493d282639f93ea99b469bb29648"
   }
  }
 },
 "nbformat": 4,
 "nbformat_minor": 5
}
